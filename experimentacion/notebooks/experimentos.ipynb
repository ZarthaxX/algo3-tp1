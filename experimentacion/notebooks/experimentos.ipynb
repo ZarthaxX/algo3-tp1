{
 "cells": [
  {
   "cell_type": "markdown",
   "metadata": {},
   "source": [
    "# Correr experimentos\n",
    "En este archivo está el código para correr los experimentos y escribir los resultados en archivos CSV.\n",
    "> Los archivos se guardan en la carpeta _resultados_."
   ]
  },
  {
   "cell_type": "code",
   "execution_count": 1,
   "metadata": {},
   "outputs": [],
   "source": [
    "import math, subprocess\n",
    "import pandas as pd\n",
    "import numpy as np\n",
    "from IPython.display import display, clear_output"
   ]
  },
  {
   "cell_type": "code",
   "execution_count": 2,
   "metadata": {},
   "outputs": [],
   "source": [
    "def leer_instancia(path_instancia):\n",
    "    with open(path_instancia, \"r\") as f:\n",
    "        return f.read();\n",
    "\n",
    "df_tolerancia_alta = pd.read_csv(\"..\\\\instances\\\\tolerancia-alta\\\\indice.csv\");\n",
    "df_tolerancia_baja = pd.read_csv(\"..\\\\instances\\\\tolerancia-baja\\\\indice.csv\");\n",
    "df_BT_mejor_fact = pd.read_csv(\"..\\\\instances\\\\BT-mejor-fact\\\\indice.csv\");\n",
    "df_BT_mejor_opt = pd.read_csv(\"..\\\\instances\\\\BT-mejor-opt\\\\indice.csv\");\n",
    "df_BT_peor_fact = pd.read_csv(\"..\\\\instances\\\\BT-peor-fact\\\\indice.csv\");\n",
    "df_BT_peor_opt = pd.read_csv(\"..\\\\instances\\\\BT-peor-opt\\\\indice.csv\");\n",
    "df_dinamica = pd.read_csv(\"..\\\\instances\\\\DP\\\\indice.csv\");\n"
   ]
  },
  {
   "cell_type": "code",
   "execution_count": 3,
   "metadata": {},
   "outputs": [],
   "source": [
    "def correr_experimento(metodo, archivo_instancia):\n",
    "    # Leer archivo de la instancia.\n",
    "    instancia = leer_instancia(archivo_instancia)\n",
    "\n",
    "    # Crear proceso para ejecutar el codigo.\n",
    "    process = subprocess.Popen([\"../../negocios\", metodo], stderr=subprocess.PIPE, stdout=subprocess.PIPE, stdin=subprocess.PIPE, universal_newlines = True)\n",
    "\n",
    "    # Poner la instancia en la entrada estandar.\n",
    "    process.stdin.write(instancia)\n",
    "    process.stdin.flush()\n",
    "\n",
    "    # Correr experimento.\n",
    "    exit_code = process.wait()\n",
    "\n",
    "    # Verificar que el proceso no fallo.\n",
    "    if exit_code is not 0: raise(F\"Hubo un error en la experimentacion para el algoritmo: {algoritmo} con la instancia {archivo_instancia}.\")\n",
    "    # Leer salida de STDERR con los tiempos de ejecucion de cada metodo.\n",
    "    tiempo_de_ejecucion = float(process.stderr.readline());\n",
    "    numero_de_podas = int(process.stderr.readline());\n",
    "    \n",
    "    process.stdin.close();\n",
    "    process.stdout.close();\n",
    "    process.stderr.close();\n",
    "    \n",
    "    return tiempo_de_ejecucion, numero_de_podas;"
   ]
  },
  {
   "cell_type": "markdown",
   "metadata": {},
   "source": [
    "## Corremos los experimentos\n",
    "Vamos a guardar una tabla con las ejecuciones y sus respectivos tiempos."
   ]
  },
  {
   "cell_type": "code",
   "execution_count": 4,
   "metadata": {},
   "outputs": [],
   "source": [
    "experimentos = [];"
   ]
  },
  {
   "cell_type": "markdown",
   "metadata": {},
   "source": [
    "# Experimento 1 : Complejidad-BF\n",
    "Corremos fuerza bruta con las primeras 1000 instancias de tolerancia-baja y tolerancia-alta de contagio."
   ]
  },
  {
   "cell_type": "code",
   "execution_count": 5,
   "metadata": {},
   "outputs": [],
   "source": [
    "for n in range(0, 1000):\n",
    "    fila = df_tolerancia_alta.iloc[n];\n",
    "    experimentos.append([fila[\"dataset\"], fila[\"negocios\"], fila[\"C\"], fila[\"i\"], \"FB\", fila[\"archivo\"]]);\n",
    "\n",
    "for n in range(0, 1000):\n",
    "    fila = df_tolerancia_baja.iloc[n];\n",
    "    experimentos.append([fila[\"dataset\"], fila[\"negocios\"], fila[\"C\"], fila[\"i\"], \"FB\", fila[\"archivo\"]]);"
   ]
  },
  {
   "cell_type": "markdown",
   "metadata": {},
   "source": [
    "# Experimento 2 : Complejidad-BT\n",
    "Corremos backtracking con las instancias de mejor y peor caso para poda por factibilidad y por optimalidad. Para mejor caso en ambas, corremos las primeras 1000, y para las de peor caso corremos las primeras 40."
   ]
  },
  {
   "cell_type": "code",
   "execution_count": 6,
   "metadata": {},
   "outputs": [],
   "source": [
    "# BT mejor caso con poda por factibilidad\n",
    "for n in range(0, 10000):\n",
    "    fila = df_BT_mejor_fact.iloc[n];\n",
    "    experimentos.append([fila[\"dataset\"], fila[\"negocios\"], fila[\"C\"], fila[\"i\"], \"BT-F\", fila[\"archivo\"]]);\n",
    "# BT mejor caso con poda por optimalidad 1\n",
    "for n in range(0, 10000):\n",
    "    fila = df_BT_mejor_opt.iloc[n];\n",
    "    experimentos.append([fila[\"dataset\"], fila[\"negocios\"], fila[\"C\"], fila[\"i\"], \"BT-O1\", fila[\"archivo\"]]);\n",
    "# BT peor caso con poda por factibilidad\n",
    "for n in range(0, 40):\n",
    "    fila = df_BT_peor_fact.iloc[n];\n",
    "    experimentos.append([fila[\"dataset\"], fila[\"negocios\"], fila[\"C\"], fila[\"i\"], \"BT-F\", fila[\"archivo\"]]);\n",
    "# BT peor caso con poda por optimalidad 1\n",
    "for n in range(0, 40):\n",
    "    fila = df_BT_peor_opt.iloc[n];\n",
    "    experimentos.append([fila[\"dataset\"], fila[\"negocios\"], fila[\"C\"], fila[\"i\"], \"BT-O1\", fila[\"archivo\"]]);"
   ]
  },
  {
   "cell_type": "markdown",
   "metadata": {},
   "source": [
    "# Experimento 3: Complejidad-DP\n",
    "Corremos todas las instancias para dinamica"
   ]
  },
  {
   "cell_type": "code",
   "execution_count": 7,
   "metadata": {},
   "outputs": [],
   "source": [
    "for n in range(df_dinamica.shape[0]):\n",
    "    fila = df_dinamica.iloc[n]\n",
    "    experimentos.append([fila[\"dataset\"], fila[\"negocios\"], fila[\"C\"], fila[\"i\"], \"DP\", fila[\"archivo\"]]);"
   ]
  },
  {
   "cell_type": "markdown",
   "metadata": {},
   "source": [
    "# Experimento 4: Efectividad de las podas\n",
    "Corremos bactracking con cada una de las posibles podas activadas para las primeras 40 instancias de tolerancia-baja y tolerancia-alta. \n",
    "Vamos a estar comparando el tiempo y la cantidad de nodos recorridos."
   ]
  },
  {
   "cell_type": "code",
   "execution_count": 5,
   "metadata": {},
   "outputs": [],
   "source": [
    "# tolerancia baja con poda por factibilidad\n",
    "for n in range (0, 1200):\n",
    "    fila = df_tolerancia_baja.iloc[n];\n",
    "    experimentos.append([fila[\"dataset\"], fila[\"negocios\"], fila[\"C\"], fila[\"i\"], \"BT-F\", fila[\"archivo\"]]);\n",
    "# tolerancia baja con poda por optimalidad 1\n",
    "for n in range (0, 1200):\n",
    "    fila = df_tolerancia_baja.iloc[n];\n",
    "    experimentos.append([fila[\"dataset\"], fila[\"negocios\"], fila[\"C\"], fila[\"i\"], \"BT-O1\", fila[\"archivo\"]]);\n",
    "# tolerancia baja con poda por optimalidad 2 (optimalidad 1 refinada)\n",
    "for n in range (0, 1200):\n",
    "    fila = df_tolerancia_baja.iloc[n];\n",
    "    experimentos.append([fila[\"dataset\"], fila[\"negocios\"], fila[\"C\"], fila[\"i\"], \"BT-O2\", fila[\"archivo\"]]);\n",
    "# tolerancia baja con poda por optimalidad 3 (optimalidad 2 refinada)\n",
    "for n in range(0, 1200):\n",
    "    fila = df_tolerancia_baja.iloc[n];\n",
    "    experimentos.append([fila[\"dataset\"], fila[\"negocios\"], fila[\"C\"], fila[\"i\"], \"BT-O3\", fila[\"archivo\"]]);\n",
    "# tolerancia alta con poda por factibilidad\n",
    "for n in range (0, 1200):\n",
    "    fila = df_tolerancia_alta.iloc[n];\n",
    "    experimentos.append([fila[\"dataset\"], fila[\"negocios\"], fila[\"C\"], fila[\"i\"], \"BT-F\", fila[\"archivo\"]]);\n",
    "# tolerancia alta con poda por optimalidad 1\n",
    "for n in range (0, 1200):\n",
    "    fila = df_tolerancia_alta.iloc[n];\n",
    "    experimentos.append([fila[\"dataset\"], fila[\"negocios\"], fila[\"C\"], fila[\"i\"], \"BT-O1\", fila[\"archivo\"]]);\n",
    "# tolerancia alta con poda por optimalidad 2 (optimalidad 1 refinada)\n",
    "for n in range (0, 1200):\n",
    "    fila = df_tolerancia_alta.iloc[n];\n",
    "    experimentos.append([fila[\"dataset\"], fila[\"negocios\"], fila[\"C\"], fila[\"i\"], \"BT-O2\", fila[\"archivo\"]]);\n",
    "# tolerancia alta con poda por optimalidad 3 (optimalidad 2 refinada)\n",
    "for n in range(0, 1200):\n",
    "    fila = df_tolerancia_alta.iloc[n];\n",
    "    experimentos.append([fila[\"dataset\"], fila[\"negocios\"], fila[\"C\"], fila[\"i\"], \"BT-O3\", fila[\"archivo\"]]);"
   ]
  },
  {
   "cell_type": "markdown",
   "metadata": {},
   "source": [
    "# Experimento 5: Comparacion de DP vs BT con todas las podas\n",
    "Corremos DP y BT con todas las podas activadas para las primeras 40 instancias de tolerancia-alta y tolerancia-baja. Tambien corremos BT para las primeras 4000 instancias de dinamica."
   ]
  },
  {
   "cell_type": "code",
   "execution_count": 5,
   "metadata": {},
   "outputs": [],
   "source": [
    "# backtracking para tolerancia baja\n",
    "for n in range(0, 3000):\n",
    "    fila = df_tolerancia_baja.iloc[n];\n",
    "    experimentos.append([fila[\"dataset\"], fila[\"negocios\"], fila[\"C\"], fila[\"i\"], \"BT\", fila[\"archivo\"]]);\n",
    "# backtracking para tolerancia alta\n",
    "for n in range(0, 6000):\n",
    "    fila = df_tolerancia_alta.iloc[n];\n",
    "    experimentos.append([fila[\"dataset\"], fila[\"negocios\"], fila[\"C\"], fila[\"i\"], \"BT\", fila[\"archivo\"]]);\n",
    "# dinamica para tolerancia baja\n",
    "for n in range(0, 3000):\n",
    "    fila = df_tolerancia_baja.iloc[n];\n",
    "    experimentos.append([fila[\"dataset\"], fila[\"negocios\"], fila[\"C\"], fila[\"i\"], \"DP\", fila[\"archivo\"]]);\n",
    "# dinamica para tolerancia alta\n",
    "for n in range(0, 6000):\n",
    "    fila = df_tolerancia_alta.iloc[n];\n",
    "    experimentos.append([fila[\"dataset\"], fila[\"negocios\"], fila[\"C\"], fila[\"i\"], \"DP\", fila[\"archivo\"]]);\n",
    "# backtracking para las primeras 500 instancias del set de dinamica\n",
    "for n in range (0, 1000):\n",
    "    fila = df_dinamica.iloc[n];\n",
    "    experimentos.append([fila[\"dataset\"], fila[\"negocios\"], fila[\"C\"], fila[\"i\"], \"BT\", fila[\"archivo\"]]);"
   ]
  },
  {
   "cell_type": "code",
   "execution_count": 6,
   "metadata": {
    "tags": []
   },
   "outputs": [
    {
     "data": {
      "text/plain": [
       "'Experimento: 2400/2400'"
      ]
     },
     "metadata": {},
     "output_type": "display_data"
    }
   ],
   "source": [
    "columnas = [\"dataset\", \"negocios\", \"C\", \"i\", \"metodo\", \"tiempo\",\"nodos_promedio\"];\n",
    "filas = [];\n",
    "numero = 1\n",
    "T = 5 # Numero de veces que se ejecuta cada experimento (para mayor fidelidad del tiempo).\n",
    "for experimento in experimentos:\n",
    "    # Voy mostrando que experimento se esta ejecutando.\n",
    "    clear_output(wait=True)\n",
    "    display('Experimento: ' + str(numero) + \"/\" + str(len(experimentos)))\n",
    "    numero += 1\n",
    "    \n",
    "    # Ejecutamos el experimento T veces y obtenemos la mediana.\n",
    "    tiempos = []\n",
    "    nodos_totales = []\n",
    "    for i in range(0, T):\n",
    "        tiempo_de_ejecucion, nodos_recorridos = correr_experimento(experimento[4], experimento[5]);\n",
    "        tiempos.append(tiempo_de_ejecucion);\n",
    "        nodos_totales.append(nodos_recorridos);\n",
    "    nodos_promedio = np.median(nodos_totales);\n",
    "    tiempo = np.median(tiempos);\n",
    "    filas.append([experimento[0], experimento[1], experimento[2], experimento[3], experimento[4], tiempo, nodos_promedio]);\n",
    "df_resultado = pd.DataFrame(filas, columns=columnas);\n",
    "df_resultado.to_csv(\"..\\\\results\\\\resultado.csv\", index=False, header=True);"
   ]
  },
  {
   "cell_type": "code",
   "execution_count": 11,
   "metadata": {},
   "outputs": [],
   "source": [
    "\n",
    "df_resultado = pd.DataFrame(filas, columns=columnas);\n",
    "df_resultado.to_csv(\"..\\\\results\\\\resultado.csv\", index=False, header=True);"
   ]
  },
  {
   "cell_type": "code",
   "execution_count": null,
   "metadata": {},
   "outputs": [],
   "source": []
  }
 ],
 "metadata": {
  "kernelspec": {
   "display_name": "Python 3.7.3 32-bit",
   "language": "python",
   "name": "python37332bit5b124b6f061645788d8daeecb8ac3422"
  },
  "language_info": {
   "codemirror_mode": {
    "name": "ipython",
    "version": 3
   },
   "file_extension": ".py",
   "mimetype": "text/x-python",
   "name": "python",
   "nbconvert_exporter": "python",
   "pygments_lexer": "ipython3",
   "version": "3.7.3"
  }
 },
 "nbformat": 4,
 "nbformat_minor": 4
}
