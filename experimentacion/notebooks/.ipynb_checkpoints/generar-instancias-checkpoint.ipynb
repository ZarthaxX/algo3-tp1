{
 "cells": [
  {
   "cell_type": "markdown",
   "metadata": {},
   "source": [
    "# Generador de instancias\n",
    "En este notebook está el código para generar los sets de instancias que se usan para experimentar.\n",
    "- Estas instancias van a ser guardadas en la carpeta __instancias__.\n",
    "- Cada set estará en su propia carpeta y tendrá un archivo _indice.csv_ que contendrá información sobre las instancias."
   ]
  },
  {
   "cell_type": "code",
   "execution_count": 2,
   "metadata": {},
   "outputs": [],
   "source": [
    "import random, math\n",
    "import pandas as pd\n",
    "import numpy as np"
   ]
  },
  {
   "cell_type": "code",
   "execution_count": 3,
   "metadata": {},
   "outputs": [],
   "source": [
    "def save_instance(dataset, instance_name, negocios, C):\n",
    "    with open(f\"..\\\\instances\\\\{dataset}\\\\{instance_name}.txt\", \"w\") as f:\n",
    "        print(len(negocios), C, file=f)\n",
    "        for negocio in negocios: \n",
    "            print(f\"{negocio[0]} {negocio[1]}\\n\", file=f, end=\"\")"
   ]
  },
  {
   "cell_type": "code",
   "execution_count": 4,
   "metadata": {},
   "outputs": [],
   "source": [
    "random.seed(42)"
   ]
  },
  {
   "cell_type": "markdown",
   "metadata": {},
   "source": [
    "# Datasets"
   ]
  },
  {
   "cell_type": "markdown",
   "metadata": {},
   "source": [
    "## BT-mejor-opt"
   ]
  },
  {
   "cell_type": "code",
   "execution_count": 5,
   "metadata": {},
   "outputs": [
    {
     "output_type": "error",
     "ename": "FileNotFoundError",
     "evalue": "[Errno 2] No such file or directory: '..\\\\instances\\\\BT-mejor-opt\\\\BT-M-O-1.txt'",
     "traceback": [
      "\u001b[1;31m---------------------------------------------------------------------------\u001b[0m",
      "\u001b[1;31mFileNotFoundError\u001b[0m                         Traceback (most recent call last)",
      "\u001b[1;32m<ipython-input-5-10e52fdd6898>\u001b[0m in \u001b[0;36m<module>\u001b[1;34m\u001b[0m\n\u001b[0;32m      6\u001b[0m     \u001b[0mC\u001b[0m \u001b[1;33m=\u001b[0m \u001b[0mn\u001b[0m\u001b[1;33m\u001b[0m\u001b[0m\n\u001b[0;32m      7\u001b[0m     \u001b[0mnegocios\u001b[0m \u001b[1;33m=\u001b[0m \u001b[1;33m[\u001b[0m\u001b[1;33m(\u001b[0m\u001b[0mn\u001b[0m\u001b[1;33m,\u001b[0m\u001b[1;36m1\u001b[0m\u001b[1;33m)\u001b[0m \u001b[1;32mif\u001b[0m \u001b[0mj\u001b[0m\u001b[1;33m%\u001b[0m\u001b[1;36m2\u001b[0m\u001b[1;33m==\u001b[0m\u001b[1;36m0\u001b[0m \u001b[1;32melse\u001b[0m \u001b[1;33m(\u001b[0m\u001b[1;36m1\u001b[0m\u001b[1;33m,\u001b[0m\u001b[1;36m1\u001b[0m\u001b[1;33m)\u001b[0m \u001b[1;32mfor\u001b[0m \u001b[0mj\u001b[0m \u001b[1;32min\u001b[0m \u001b[0mrange\u001b[0m\u001b[1;33m(\u001b[0m\u001b[0mn\u001b[0m\u001b[1;33m)\u001b[0m\u001b[1;33m]\u001b[0m\u001b[1;33m\u001b[0m\u001b[0m\n\u001b[1;32m----> 8\u001b[1;33m     \u001b[0msave_instance\u001b[0m\u001b[1;33m(\u001b[0m\u001b[0mdataset\u001b[0m\u001b[1;33m,\u001b[0m\u001b[0minstance_name\u001b[0m\u001b[1;33m+\u001b[0m\u001b[1;34mf\"-{n}\"\u001b[0m\u001b[1;33m,\u001b[0m \u001b[0mnegocios\u001b[0m\u001b[1;33m,\u001b[0m \u001b[0mC\u001b[0m\u001b[1;33m)\u001b[0m\u001b[1;33m\u001b[0m\u001b[0m\n\u001b[0m\u001b[0;32m      9\u001b[0m     \u001b[0mfilas_indice\u001b[0m\u001b[1;33m.\u001b[0m\u001b[0mappend\u001b[0m\u001b[1;33m(\u001b[0m\u001b[1;33m[\u001b[0m\u001b[0mdataset\u001b[0m\u001b[1;33m,\u001b[0m \u001b[0minstance_name\u001b[0m\u001b[1;33m+\u001b[0m\u001b[1;34mf\"-{n}\"\u001b[0m\u001b[1;33m,\u001b[0m \u001b[0mn\u001b[0m\u001b[1;33m,\u001b[0m \u001b[0mC\u001b[0m\u001b[1;33m,\u001b[0m \u001b[1;34m\"..\\\\instances\\\\\"\u001b[0m\u001b[1;33m+\u001b[0m \u001b[0mdataset\u001b[0m \u001b[1;33m+\u001b[0m \u001b[1;34m\"\\\\\"\u001b[0m\u001b[1;33m+\u001b[0m \u001b[0minstance_name\u001b[0m\u001b[1;33m+\u001b[0m\u001b[1;34mf\"-{n}.txt\"\u001b[0m\u001b[1;33m]\u001b[0m\u001b[1;33m)\u001b[0m\u001b[1;33m\u001b[0m\u001b[0m\n\u001b[0;32m     10\u001b[0m \u001b[0mdf\u001b[0m \u001b[1;33m=\u001b[0m \u001b[0mpd\u001b[0m\u001b[1;33m.\u001b[0m\u001b[0mDataFrame\u001b[0m\u001b[1;33m(\u001b[0m\u001b[0mfilas_indice\u001b[0m\u001b[1;33m,\u001b[0m \u001b[0mcolumns\u001b[0m\u001b[1;33m=\u001b[0m\u001b[1;33m[\u001b[0m\u001b[1;34m\"dataset\"\u001b[0m\u001b[1;33m,\u001b[0m \u001b[1;34m\"instancia\"\u001b[0m\u001b[1;33m,\u001b[0m \u001b[1;34m\"negocios\"\u001b[0m\u001b[1;33m,\u001b[0m \u001b[1;34m\"C\"\u001b[0m\u001b[1;33m,\u001b[0m \u001b[1;34m\"archivo\"\u001b[0m\u001b[1;33m]\u001b[0m\u001b[1;33m)\u001b[0m\u001b[1;33m\u001b[0m\u001b[0m\n",
      "\u001b[1;32m<ipython-input-3-ea71c06081f5>\u001b[0m in \u001b[0;36msave_instance\u001b[1;34m(dataset, instance_name, negocios, C)\u001b[0m\n\u001b[0;32m      1\u001b[0m \u001b[1;32mdef\u001b[0m \u001b[0msave_instance\u001b[0m\u001b[1;33m(\u001b[0m\u001b[0mdataset\u001b[0m\u001b[1;33m,\u001b[0m \u001b[0minstance_name\u001b[0m\u001b[1;33m,\u001b[0m \u001b[0mnegocios\u001b[0m\u001b[1;33m,\u001b[0m \u001b[0mC\u001b[0m\u001b[1;33m)\u001b[0m\u001b[1;33m:\u001b[0m\u001b[1;33m\u001b[0m\u001b[0m\n\u001b[1;32m----> 2\u001b[1;33m     \u001b[1;32mwith\u001b[0m \u001b[0mopen\u001b[0m\u001b[1;33m(\u001b[0m\u001b[1;34mf\"..\\\\instances\\\\{dataset}\\\\{instance_name}.txt\"\u001b[0m\u001b[1;33m,\u001b[0m \u001b[1;34m\"w\"\u001b[0m\u001b[1;33m)\u001b[0m \u001b[1;32mas\u001b[0m \u001b[0mf\u001b[0m\u001b[1;33m:\u001b[0m\u001b[1;33m\u001b[0m\u001b[0m\n\u001b[0m\u001b[0;32m      3\u001b[0m         \u001b[0mprint\u001b[0m\u001b[1;33m(\u001b[0m\u001b[0mlen\u001b[0m\u001b[1;33m(\u001b[0m\u001b[0mnegocios\u001b[0m\u001b[1;33m)\u001b[0m\u001b[1;33m,\u001b[0m \u001b[0mC\u001b[0m\u001b[1;33m,\u001b[0m \u001b[0mfile\u001b[0m\u001b[1;33m=\u001b[0m\u001b[0mf\u001b[0m\u001b[1;33m)\u001b[0m\u001b[1;33m\u001b[0m\u001b[0m\n\u001b[0;32m      4\u001b[0m         \u001b[1;32mfor\u001b[0m \u001b[0mnegocio\u001b[0m \u001b[1;32min\u001b[0m \u001b[0mnegocios\u001b[0m\u001b[1;33m:\u001b[0m\u001b[1;33m\u001b[0m\u001b[0m\n\u001b[0;32m      5\u001b[0m             \u001b[0mprint\u001b[0m\u001b[1;33m(\u001b[0m\u001b[1;34mf\"{negocio[0]} {negocio[1]}\\n\"\u001b[0m\u001b[1;33m,\u001b[0m \u001b[0mfile\u001b[0m\u001b[1;33m=\u001b[0m\u001b[0mf\u001b[0m\u001b[1;33m,\u001b[0m \u001b[0mend\u001b[0m\u001b[1;33m=\u001b[0m\u001b[1;34m\"\"\u001b[0m\u001b[1;33m)\u001b[0m\u001b[1;33m\u001b[0m\u001b[0m\n",
      "\u001b[1;31mFileNotFoundError\u001b[0m: [Errno 2] No such file or directory: '..\\\\instances\\\\BT-mejor-opt\\\\BT-M-O-1.txt'"
     ]
    }
   ],
   "source": [
    "dataset = \"BT-mejor-opt\"\n",
    "instance_name = \"BT-M-O\"\n",
    "filas_indice = []\n",
    "for i in range(1,1001):\n",
    "    n = i\n",
    "    C = n\n",
    "    negocios = [(n,1) if j%2==0 else (1,1) for j in range(n)]\n",
    "    save_instance(dataset,instance_name+f\"-{n}\", negocios, C)\n",
    "    filas_indice.append([dataset, instance_name+f\"-{n}\", n, C, \"..\\\\instances\\\\\"+ dataset + \"\\\\\"+ instance_name+f\"-{n}.txt\"])\n",
    "df = pd.DataFrame(filas_indice, columns=[\"dataset\", \"instancia\", \"negocios\", \"C\", \"archivo\"])\n",
    "df.to_csv(\"..\\\\instances\\\\\"+dataset+\"\\\\indice.csv\", index=False, header=True)"
   ]
  },
  {
   "cell_type": "markdown",
   "metadata": {},
   "source": [
    "## BT-mejor-fact"
   ]
  },
  {
   "cell_type": "code",
   "execution_count": 54,
   "metadata": {},
   "outputs": [],
   "source": [
    "dataset = \"BT-mejor-fact\"\n",
    "instance_name = \"BT-M-F\"\n",
    "filas_indice = []\n",
    "for i in range(1,1001):\n",
    "    n = i\n",
    "    C = n\n",
    "    negocios = [(1,C+1) for j in range(n)]\n",
    "    negocios[-1] = (1,C)\n",
    "    save_instance(dataset,instance_name+f\"-{n}\", negocios, C)\n",
    "    filas_indice.append([dataset, instance_name+f\"-{n}\", n, C, \"..\\\\instances\\\\\"+ dataset + \"\\\\\"+ instance_name+f\"-{n}.txt\"])\n",
    "pd.DataFrame(filas_indice, columns=[\"dataset\", \"instancia\", \"negocios\", \"C\", \"archivo\"]).to_csv(\"..\\\\instances\\\\\"+dataset+\"\\\\indice.csv\", index=False, header=True)"
   ]
  },
  {
   "cell_type": "markdown",
   "metadata": {},
   "source": [
    "## BT-peor-opt"
   ]
  },
  {
   "cell_type": "code",
   "execution_count": 55,
   "metadata": {},
   "outputs": [],
   "source": [
    "dataset = \"BT-peor-opt\"\n",
    "instance_name = \"BT-P-O\"\n",
    "filas_indice = []\n",
    "for i in range(1,1001):\n",
    "    n = i\n",
    "    C = n\n",
    "    negocios = [(1,1) for j in range(n)]\n",
    "    negocios[-1] = (2*n,C)\n",
    "    save_instance(dataset,instance_name+f\"-{n}\", negocios, C)\n",
    "    filas_indice.append([dataset, instance_name+f\"-{n}\", n, C, \"..\\\\instances\\\\\"+ dataset + \"\\\\\"+ instance_name+f\"-{n}.txt\"])\n",
    "pd.DataFrame(filas_indice, columns=[\"dataset\", \"instancia\", \"negocios\", \"C\", \"archivo\"]).to_csv(\"..\\\\instances\\\\\"+dataset+\"\\\\indice.csv\", index=False, header=True)"
   ]
  },
  {
   "cell_type": "markdown",
   "metadata": {},
   "source": [
    "## BT-peor-fact"
   ]
  },
  {
   "cell_type": "code",
   "execution_count": 56,
   "metadata": {},
   "outputs": [],
   "source": [
    "dataset = \"BT-peor-fact\"\n",
    "instance_name = \"BT-P-F\"\n",
    "filas_indice = []\n",
    "for i in range(1,1001):\n",
    "    n = i\n",
    "    C = n\n",
    "    negocios = [(1,1) for j in range(n)]\n",
    "    save_instance(dataset,instance_name+f\"-{n}\", negocios, C)\n",
    "    filas_indice.append([dataset, instance_name+f\"-{n}\", n, C, \"..\\\\instances\\\\\"+ dataset + \"\\\\\"+ instance_name+f\"-{n}.txt\"])\n",
    "pd.DataFrame(filas_indice, columns=[\"dataset\", \"instancia\", \"negocios\", \"C\", \"archivo\"]).to_csv(\"..\\\\instances\\\\\"+dataset+\"\\\\indice.csv\", index=False, header=True)"
   ]
  },
  {
   "cell_type": "markdown",
   "metadata": {},
   "source": [
    "## Dinamica"
   ]
  },
  {
   "cell_type": "code",
   "execution_count": 57,
   "metadata": {},
   "outputs": [],
   "source": [
    "dataset = \"DP\"\n",
    "instance_name = \"DP\"\n",
    "filas_indice = []\n",
    "A = 1\n",
    "B = 1000\n",
    "for n in range(A,B,10):\n",
    "    for C in range(A,B,10):\n",
    "        negocios = [(random.randint(1,B),random.randint(1,B)) for j in range(n)]\n",
    "        save_instance(dataset,instance_name+f\"-{n}\", negocios, C)\n",
    "        filas_indice.append([dataset, instance_name+f\"-{n}\", n, C, \"..\\\\instances\\\\\"+ dataset + \"\\\\\"+ instance_name+f\"-{n}.txt\"])\n",
    "pd.DataFrame(filas_indice, columns=[\"dataset\", \"instancia\", \"negocios\", \"C\", \"archivo\"]).to_csv(\"..\\\\instances\\\\\"+dataset+\"\\\\indice.csv\", index=False, header=True)"
   ]
  },
  {
   "cell_type": "markdown",
   "metadata": {},
   "source": [
    "## tolerancia-baja"
   ]
  },
  {
   "cell_type": "code",
   "execution_count": 58,
   "metadata": {},
   "outputs": [],
   "source": [
    "dataset = \"tolerancia-baja\"\n",
    "instance_name = \"T-B\"\n",
    "filas_indice = []\n",
    "A = 1\n",
    "B = 1000\n",
    "for n in range(1,1001):\n",
    "    negocios = [(random.randint(A,B),random.randint(A,B)) for j in range(n)]\n",
    "    C = int(np.mean(negocios))\n",
    "    save_instance(dataset,instance_name+f\"-{n}\", negocios, C)\n",
    "    filas_indice.append([dataset, instance_name+f\"-{n}\", n, C, \"..\\\\instances\\\\\"+ dataset + \"\\\\\"+ instance_name+f\"-{n}.txt\"])\n",
    "pd.DataFrame(filas_indice, columns=[\"dataset\", \"instancia\", \"negocios\", \"C\", \"archivo\"]).to_csv(\"..\\\\instances\\\\\"+dataset+\"\\\\indice.csv\", index=False, header=True)"
   ]
  },
  {
   "cell_type": "markdown",
   "metadata": {},
   "source": [
    "## tolerancia-alta"
   ]
  },
  {
   "cell_type": "code",
   "execution_count": 59,
   "metadata": {},
   "outputs": [],
   "source": [
    "dataset = \"tolerancia-alta\"\n",
    "instance_name = \"T-B\"\n",
    "filas_indice = []\n",
    "A = 1\n",
    "B = 1000\n",
    "for n in range(1,1001):\n",
    "    negocios = [(random.randint(A,B),random.randint(A,B)) for j in range(n)]\n",
    "    C = int(np.mean(negocios)*n/2)\n",
    "    save_instance(dataset,instance_name+f\"-{n}\", negocios, C)\n",
    "    filas_indice.append([dataset, instance_name+f\"-{n}\", n, C, \"..\\\\instances\\\\\"+ dataset + \"\\\\\"+ instance_name+f\"-{n}.txt\"])\n",
    "pd.DataFrame(filas_indice, columns=[\"dataset\", \"instancia\", \"negocios\", \"C\", \"archivo\"]).to_csv(\"..\\\\instances\\\\\"+dataset+\"\\\\indice.csv\", index=False, header=True)"
   ]
  },
  {
   "cell_type": "code",
   "execution_count": null,
   "metadata": {},
   "outputs": [],
   "source": []
  }
 ],
 "metadata": {
  "kernelspec": {
   "name": "Python 3.6.6 64-bit",
   "display_name": "Python 3.6.6 64-bit",
   "metadata": {
    "interpreter": {
     "hash": "2e5c6628eef985e7fd2fa2aad22c988c5b8aa1d2648cf9c51c543a2a2637c546"
    }
   }
  },
  "language_info": {
   "codemirror_mode": {
    "name": "ipython",
    "version": 3
   },
   "file_extension": ".py",
   "mimetype": "text/x-python",
   "name": "python",
   "nbconvert_exporter": "python",
   "pygments_lexer": "ipython3",
   "version": "3.6.6-final"
  }
 },
 "nbformat": 4,
 "nbformat_minor": 4
}