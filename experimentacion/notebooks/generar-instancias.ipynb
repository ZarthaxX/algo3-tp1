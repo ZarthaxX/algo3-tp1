{
 "cells": [
  {
   "cell_type": "markdown",
   "metadata": {},
   "source": [
    "# Generador de instancias\n",
    "En este notebook está el código para generar los sets de instancias que se usan para experimentar.\n",
    "- Estas instancias van a ser guardadas en la carpeta __instancias__.\n",
    "- Cada set estará en su propia carpeta y tendrá un archivo _indice.csv_ que contendrá información sobre las instancias."
   ]
  },
  {
   "cell_type": "code",
   "execution_count": 1,
   "metadata": {},
   "outputs": [],
   "source": [
    "import random, math\n",
    "import pandas as pd\n",
    "import numpy as np\n",
    "import os"
   ]
  },
  {
   "cell_type": "code",
   "execution_count": 2,
   "metadata": {},
   "outputs": [],
   "source": [
    "def save_instance(dataset, instance_name, negocios, C, i):\n",
    "    instance_name = f\"{instance_name}-{len(negocios)}-{i}-{C}\";\n",
    "    directory = f\"..\\\\instances\\\\{dataset}\"\n",
    "    if not os.path.exists(directory):\n",
    "        os.makedirs(directory)\n",
    "    with open(f\"{directory}\\\\{instance_name}.txt\", \"w+\") as f:\n",
    "        print(len(negocios), C, file=f)\n",
    "        for negocio in negocios: \n",
    "            print(f\"{negocio[0]} {negocio[1]}\\n\", file=f, end=\"\")"
   ]
  },
  {
   "cell_type": "code",
   "execution_count": 3,
   "metadata": {},
   "outputs": [],
   "source": [
    "def save_row(filas_indice, dataset, instance_name, n, C, i):\n",
    "    filas_indice.append([dataset, instance_name+f\"-{n}-{i}-{C}\", n, C, i, \"..\\\\instances\\\\\"+ dataset + \"\\\\\"+ instance_name+f\"-{n}-{i}-{C}.txt\"])\n",
    "\n",
    "def save_to_csv(filas_indice,dataset):\n",
    "    df = pd.DataFrame(filas_indice, columns=[\"dataset\", \"instancia\", \"negocios\", \"C\", \"i\", \"archivo\"])\n",
    "    df.to_csv(\"..\\\\instances\\\\\"+dataset+\"\\\\indice.csv\", index=False, header=True)"
   ]
  },
  {
   "cell_type": "code",
   "execution_count": 4,
   "metadata": {},
   "outputs": [],
   "source": [
    "random.seed(42)"
   ]
  },
  {
   "cell_type": "markdown",
   "metadata": {},
   "source": [
    "## BT-mejor-caso"
   ]
  },
  {
   "cell_type": "code",
   "execution_count": 1,
   "metadata": {},
   "outputs": [
    {
     "ename": "NameError",
     "evalue": "name 'save_instance' is not defined",
     "output_type": "error",
     "traceback": [
      "\u001b[1;31m---------------------------------------------------------------------------\u001b[0m",
      "\u001b[1;31mNameError\u001b[0m                                 Traceback (most recent call last)",
      "\u001b[1;32m<ipython-input-1-1e4ceeec070c>\u001b[0m in \u001b[0;36m<module>\u001b[1;34m\u001b[0m\n\u001b[0;32m      7\u001b[0m     \u001b[0mnegocios\u001b[0m \u001b[1;33m=\u001b[0m \u001b[1;33m[\u001b[0m\u001b[1;33m(\u001b[0m\u001b[1;36m1\u001b[0m\u001b[1;33m,\u001b[0m\u001b[0mC\u001b[0m\u001b[1;33m+\u001b[0m\u001b[1;36m1\u001b[0m\u001b[1;33m)\u001b[0m \u001b[1;32mfor\u001b[0m \u001b[0mj\u001b[0m \u001b[1;32min\u001b[0m \u001b[0mrange\u001b[0m\u001b[1;33m(\u001b[0m\u001b[0mn\u001b[0m\u001b[1;33m)\u001b[0m\u001b[1;33m]\u001b[0m\u001b[1;33m\u001b[0m\u001b[1;33m\u001b[0m\u001b[0m\n\u001b[0;32m      8\u001b[0m     \u001b[0mnegocios\u001b[0m\u001b[1;33m[\u001b[0m\u001b[1;33m-\u001b[0m\u001b[1;36m1\u001b[0m\u001b[1;33m]\u001b[0m \u001b[1;33m=\u001b[0m \u001b[1;33m(\u001b[0m\u001b[1;36m1\u001b[0m\u001b[1;33m,\u001b[0m\u001b[0mC\u001b[0m\u001b[1;33m)\u001b[0m\u001b[1;33m\u001b[0m\u001b[1;33m\u001b[0m\u001b[0m\n\u001b[1;32m----> 9\u001b[1;33m     \u001b[0msave_instance\u001b[0m\u001b[1;33m(\u001b[0m\u001b[0mdataset\u001b[0m\u001b[1;33m,\u001b[0m\u001b[0minstance_name\u001b[0m\u001b[1;33m,\u001b[0m \u001b[0mnegocios\u001b[0m\u001b[1;33m,\u001b[0m \u001b[0mC\u001b[0m\u001b[1;33m,\u001b[0m \u001b[1;36m1\u001b[0m\u001b[1;33m)\u001b[0m\u001b[1;33m\u001b[0m\u001b[1;33m\u001b[0m\u001b[0m\n\u001b[0m\u001b[0;32m     10\u001b[0m     \u001b[0msave_row\u001b[0m\u001b[1;33m(\u001b[0m\u001b[0mfilas_indice\u001b[0m\u001b[1;33m,\u001b[0m \u001b[0mdataset\u001b[0m\u001b[1;33m,\u001b[0m \u001b[0minstance_name\u001b[0m\u001b[1;33m,\u001b[0m \u001b[0mn\u001b[0m\u001b[1;33m,\u001b[0m \u001b[0mC\u001b[0m\u001b[1;33m,\u001b[0m \u001b[1;36m1\u001b[0m\u001b[1;33m)\u001b[0m\u001b[1;33m\u001b[0m\u001b[1;33m\u001b[0m\u001b[0m\n\u001b[0;32m     11\u001b[0m \u001b[0msave_to_csv\u001b[0m\u001b[1;33m(\u001b[0m\u001b[0mfilas_indice\u001b[0m\u001b[1;33m,\u001b[0m\u001b[0mdataset\u001b[0m\u001b[1;33m)\u001b[0m\u001b[1;33m\u001b[0m\u001b[1;33m\u001b[0m\u001b[0m\n",
      "\u001b[1;31mNameError\u001b[0m: name 'save_instance' is not defined"
     ]
    }
   ],
   "source": [
    "dataset = \"BT-mejor-caso\"\n",
    "instance_name = \"BT-M-C\"\n",
    "filas_indice = []\n",
    "for i in range(1,10000+1):\n",
    "    n = i\n",
    "    C = n\n",
    "    negocios = [(1,C+1) for j in range(n)]\n",
    "    negocios[-1] = (1,C)\n",
    "    save_instance(dataset,instance_name, negocios, C, 1)\n",
    "    save_row(filas_indice, dataset, instance_name, n, C, 1)\n",
    "save_to_csv(filas_indice,dataset)"
   ]
  },
  {
   "cell_type": "markdown",
   "metadata": {},
   "source": [
    "## BT-peor-caso"
   ]
  },
  {
   "cell_type": "code",
   "execution_count": 7,
   "metadata": {},
   "outputs": [],
   "source": [
    "dataset = \"BT-peor-caso\"\n",
    "instance_name = \"BT-P-C\"\n",
    "filas_indice = []\n",
    "for i in range(1,1000+1):\n",
    "    n = i\n",
    "    C = n\n",
    "    negocios = [(1,1) for j in range(n)]\n",
    "    negocios[-1] = (2*n,C)\n",
    "    save_instance(dataset,instance_name, negocios, C, 1)\n",
    "    save_row(filas_indice, dataset, instance_name, n, C, 1)\n",
    "save_to_csv(filas_indice,dataset)"
   ]
  },
  {
   "cell_type": "markdown",
   "metadata": {},
   "source": [
    "## Dinamica"
   ]
  },
  {
   "cell_type": "code",
   "execution_count": 9,
   "metadata": {},
   "outputs": [],
   "source": [
    "dataset = \"DP\"\n",
    "instance_name = \"DP\"\n",
    "filas_indice = []\n",
    "A = 1\n",
    "B = 1002\n",
    "for n in range(A,B,10):\n",
    "    for C in range(A,B,10):\n",
    "        negocios = [(random.randint(1,B),random.randint(1,B)) for j in range(n)]\n",
    "        save_instance(dataset,instance_name, negocios, C, 1)\n",
    "        save_row(filas_indice, dataset, instance_name, n, C, 1)\n",
    "save_to_csv(filas_indice,dataset)"
   ]
  },
  {
   "cell_type": "markdown",
   "metadata": {},
   "source": [
    "## Dinamica V3"
   ]
  },
  {
   "cell_type": "code",
   "execution_count": 14,
   "metadata": {},
   "outputs": [],
   "source": [
    "dataset = \"DP-V3\"\n",
    "instance_name = \"DP-V3\"\n",
    "filas_indice = []\n",
    "A = 1\n",
    "B = 502\n",
    "C = 1\n",
    "D = 50002\n",
    "for n in range(A,B,10):\n",
    "    for c in range(C,D,1000):\n",
    "        r = max(1,int((4*c)/n))\n",
    "        negocios = [(random.randint(1,r),random.randint(1,r)) for j in range(n)]\n",
    "        save_instance(dataset,instance_name, negocios, c, 1)\n",
    "        save_row(filas_indice, dataset, instance_name, n, c, 1)\n",
    "save_to_csv(filas_indice,dataset)"
   ]
  },
  {
   "cell_type": "markdown",
   "metadata": {},
   "source": [
    "## tolerancia-baja"
   ]
  },
  {
   "cell_type": "code",
   "execution_count": 10,
   "metadata": {},
   "outputs": [],
   "source": [
    "dataset = \"tolerancia-baja\"\n",
    "instance_name = \"T-B\"\n",
    "filas_indice = []\n",
    "A = 1\n",
    "B = 1000\n",
    "for n in range(1,200+1):\n",
    "    for i in range(1,31):\n",
    "        negocios = [(random.randint(A,B),random.randint(A,B)) for j in range(n)]\n",
    "        C = int(np.mean(negocios))\n",
    "        save_instance(dataset,instance_name, negocios, C, i)\n",
    "        save_row(filas_indice, dataset, instance_name, n, C, i)\n",
    "save_to_csv(filas_indice,dataset)"
   ]
  },
  {
   "cell_type": "markdown",
   "metadata": {},
   "source": [
    "## tolerancia-alta"
   ]
  },
  {
   "cell_type": "code",
   "execution_count": 11,
   "metadata": {},
   "outputs": [],
   "source": [
    "dataset = \"tolerancia-alta\"\n",
    "instance_name = \"T-A\"\n",
    "filas_indice = []\n",
    "A = 1\n",
    "B = 1000\n",
    "for n in range(1,200+1):\n",
    "    for i in range(1,31):\n",
    "        negocios = [(random.randint(A,B),random.randint(A,B)) for j in range(n)]\n",
    "        C = int(np.mean(negocios)*n/2)\n",
    "        save_instance(dataset,instance_name, negocios, C, i)\n",
    "        save_row(filas_indice, dataset, instance_name, n, C, i)\n",
    "save_to_csv(filas_indice,dataset)"
   ]
  }
 ],
 "metadata": {
  "kernelspec": {
   "display_name": "Python 3.7.3 32-bit",
   "language": "python",
   "name": "python37332bit5b124b6f061645788d8daeecb8ac3422"
  },
  "language_info": {
   "codemirror_mode": {
    "name": "ipython",
    "version": 3
   },
   "file_extension": ".py",
   "mimetype": "text/x-python",
   "name": "python",
   "nbconvert_exporter": "python",
   "pygments_lexer": "ipython3",
   "version": "3.7.3"
  }
 },
 "nbformat": 4,
 "nbformat_minor": 4
}
