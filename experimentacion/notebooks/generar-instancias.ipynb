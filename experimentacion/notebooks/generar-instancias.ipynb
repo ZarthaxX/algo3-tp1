{
 "cells": [
  {
   "cell_type": "markdown",
   "metadata": {},
   "source": [
    "# Generador de instancias\n",
    "En este notebook está el código para generar los sets de instancias que se usan para experimentar.\n",
    "- Estas instancias van a ser guardadas en la carpeta __instancias__.\n",
    "- Cada set estará en su propia carpeta y tendrá un archivo _indice.csv_ que contendrá información sobre las instancias."
   ]
  },
  {
   "cell_type": "code",
   "execution_count": 3,
   "metadata": {},
   "outputs": [],
   "source": [
    "import random, math\n",
    "import pandas as pd\n",
    "import numpy as np\n",
    "import os"
   ]
  },
  {
   "cell_type": "code",
   "execution_count": 4,
   "metadata": {},
   "outputs": [],
   "source": [
    "def save_instance(dataset, instance_name, negocios, C, i):\n",
    "    instance_name = f\"{instance_name}-{len(negocios)}-{i}-{C}\";\n",
    "    directory = f\"..\\\\instances\\\\{dataset}\"\n",
    "    if not os.path.exists(directory):\n",
    "        os.makedirs(directory)\n",
    "    with open(f\"{directory}\\\\{instance_name}.txt\", \"w+\") as f:\n",
    "        print(len(negocios), C, file=f)\n",
    "        for negocio in negocios: \n",
    "            print(f\"{negocio[0]} {negocio[1]}\\n\", file=f, end=\"\")"
   ]
  },
  {
   "cell_type": "code",
   "execution_count": 5,
   "metadata": {},
   "outputs": [],
   "source": [
    "def save_row(filas_indice, dataset, instance_name, n, C, i):\n",
    "    filas_indice.append([dataset, instance_name+f\"-{n}-{i}-{C}\", n, C, i, \"..\\\\instances\\\\\"+ dataset + \"\\\\\"+ instance_name+f\"-{n}-{i}-{C}.txt\"])\n",
    "\n",
    "def save_to_csv(filas_indice,dataset):\n",
    "    df = pd.DataFrame(filas_indice, columns=[\"dataset\", \"instancia\", \"negocios\", \"C\", \"i\", \"archivo\"])\n",
    "    df.to_csv(\"..\\\\instances\\\\\"+dataset+\"\\\\indice.csv\", index=False, header=True)"
   ]
  },
  {
   "cell_type": "code",
   "execution_count": 6,
   "metadata": {},
   "outputs": [],
   "source": [
    "random.seed(42)\n",
    "N_INSTANCES = 1000"
   ]
  },
  {
   "cell_type": "markdown",
   "metadata": {},
   "source": [
    "## BT-mejor-opt"
   ]
  },
  {
   "cell_type": "code",
   "execution_count": 7,
   "metadata": {},
   "outputs": [],
   "source": [
    "dataset = \"BT-mejor-opt\"\n",
    "instance_name = \"BT-M-O\"\n",
    "filas_indice = []\n",
    "for i in range(1,N_INSTANCES+1):\n",
    "    n = i\n",
    "    C = n\n",
    "    negocios = [(n,1) if j%2==0 else (1,1) for j in range(n)]\n",
    "    save_instance(dataset,instance_name, negocios, C, 1)\n",
    "    save_row(filas_indice, dataset, instance_name, n, C, 1)\n",
    "save_to_csv(filas_indice,dataset)"
   ]
  },
  {
   "cell_type": "markdown",
   "metadata": {},
   "source": [
    "## BT-mejor-fact"
   ]
  },
  {
   "cell_type": "code",
   "execution_count": 8,
   "metadata": {},
   "outputs": [],
   "source": [
    "dataset = \"BT-mejor-fact\"\n",
    "instance_name = \"BT-M-F\"\n",
    "filas_indice = []\n",
    "for i in range(1,N_INSTANCES+1):\n",
    "    n = i\n",
    "    C = n\n",
    "    negocios = [(1,C+1) for j in range(n)]\n",
    "    negocios[-1] = (1,C)\n",
    "    save_instance(dataset,instance_name, negocios, C, 1)\n",
    "    save_row(filas_indice, dataset, instance_name, n, C, 1)\n",
    "save_to_csv(filas_indice,dataset)"
   ]
  },
  {
   "cell_type": "markdown",
   "metadata": {},
   "source": [
    "## BT-peor-opt"
   ]
  },
  {
   "cell_type": "code",
   "execution_count": 9,
   "metadata": {},
   "outputs": [],
   "source": [
    "dataset = \"BT-peor-opt\"\n",
    "instance_name = \"BT-P-O\"\n",
    "filas_indice = []\n",
    "for i in range(1,N_INSTANCES+1):\n",
    "    n = i\n",
    "    C = n\n",
    "    negocios = [(1,1) for j in range(n)]\n",
    "    negocios[-1] = (2*n,C)\n",
    "    save_instance(dataset,instance_name, negocios, C, 1)\n",
    "    save_row(filas_indice, dataset, instance_name, n, C, 1)\n",
    "save_to_csv(filas_indice,dataset)"
   ]
  },
  {
   "cell_type": "markdown",
   "metadata": {},
   "source": [
    "## BT-peor-fact"
   ]
  },
  {
   "cell_type": "code",
   "execution_count": 10,
   "metadata": {},
   "outputs": [],
   "source": [
    "dataset = \"BT-peor-fact\"\n",
    "instance_name = \"BT-P-F\"\n",
    "filas_indice = []\n",
    "for i in range(1,N_INSTANCES+1):\n",
    "    n = i\n",
    "    C = n\n",
    "    negocios = [(1,1) for j in range(n)]\n",
    "    save_instance(dataset,instance_name, negocios, C, 1)\n",
    "    save_row(filas_indice, dataset, instance_name, n, C, 1)\n",
    "save_to_csv(filas_indice,dataset)"
   ]
  },
  {
   "cell_type": "markdown",
   "metadata": {},
   "source": [
    "## Dinamica"
   ]
  },
  {
   "cell_type": "code",
   "execution_count": 11,
   "metadata": {},
   "outputs": [],
   "source": [
    "dataset = \"DP\"\n",
    "instance_name = \"DP\"\n",
    "filas_indice = []\n",
    "A = 1\n",
    "B = 1000\n",
    "for n in range(A,B,10):\n",
    "    for C in range(A,B,10):\n",
    "        negocios = [(random.randint(1,B),random.randint(1,B)) for j in range(n)]\n",
    "        save_instance(dataset,instance_name, negocios, C, 1)\n",
    "        save_row(filas_indice, dataset, instance_name, n, C, 1)\n",
    "save_to_csv(filas_indice,dataset)"
   ]
  },
  {
   "cell_type": "markdown",
   "metadata": {},
   "source": [
    "## tolerancia-baja"
   ]
  },
  {
   "cell_type": "code",
   "execution_count": 12,
   "metadata": {},
   "outputs": [],
   "source": [
    "dataset = \"tolerancia-baja\"\n",
    "instance_name = \"T-B\"\n",
    "filas_indice = []\n",
    "A = 1\n",
    "B = 1000\n",
    "for n in range(1,100+1):\n",
    "    for i in range(1,31):\n",
    "        negocios = [(random.randint(A,B),random.randint(A,B)) for j in range(n)]\n",
    "        C = int(np.mean(negocios))\n",
    "        save_instance(dataset,instance_name, negocios, C, i)\n",
    "        save_row(filas_indice, dataset, instance_name, n, C, i)\n",
    "save_to_csv(filas_indice,dataset)"
   ]
  },
  {
   "cell_type": "markdown",
   "metadata": {},
   "source": [
    "## tolerancia-alta"
   ]
  },
  {
   "cell_type": "code",
   "execution_count": 13,
   "metadata": {},
   "outputs": [],
   "source": [
    "dataset = \"tolerancia-alta\"\n",
    "instance_name = \"T-A\"\n",
    "filas_indice = []\n",
    "A = 1\n",
    "B = 1000\n",
    "for n in range(1,100+1):\n",
    "    for i in range(1,31):\n",
    "        negocios = [(random.randint(A,B),random.randint(A,B)) for j in range(n)]\n",
    "        C = int(np.mean(negocios)*n/2)\n",
    "        save_instance(dataset,instance_name, negocios, C, i)\n",
    "        save_row(filas_indice, dataset, instance_name, n, C, i)\n",
    "save_to_csv(filas_indice,dataset)"
   ]
  },
  {
   "cell_type": "code",
   "execution_count": null,
   "metadata": {},
   "outputs": [],
   "source": []
  }
 ],
 "metadata": {
  "kernelspec": {
   "display_name": "Python 3.7.3 32-bit",
   "language": "python",
   "name": "python37332bit5b124b6f061645788d8daeecb8ac3422"
  },
  "language_info": {
   "codemirror_mode": {
    "name": "ipython",
    "version": 3
   },
   "file_extension": ".py",
   "mimetype": "text/x-python",
   "name": "python",
   "nbconvert_exporter": "python",
   "pygments_lexer": "ipython3",
   "version": "3.7.3"
  }
 },
 "nbformat": 4,
 "nbformat_minor": 4
}
